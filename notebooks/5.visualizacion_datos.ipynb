{
 "cells": [
  {
   "cell_type": "code",
   "execution_count": 1,
   "metadata": {},
   "outputs": [],
   "source": [
    "import pandas as pd\n",
    "import numpy as np\n",
    "import os\n",
    "import seaborn as sns\n",
    "import matplotlib.pyplot as plt"
   ]
  },
  {
   "cell_type": "markdown",
   "metadata": {},
   "source": [
    "### VISUALIZACIÓN"
   ]
  },
  {
   "cell_type": "code",
   "execution_count": 2,
   "metadata": {},
   "outputs": [
    {
     "data": {
      "text/html": [
       "<div>\n",
       "<style scoped>\n",
       "    .dataframe tbody tr th:only-of-type {\n",
       "        vertical-align: middle;\n",
       "    }\n",
       "\n",
       "    .dataframe tbody tr th {\n",
       "        vertical-align: top;\n",
       "    }\n",
       "\n",
       "    .dataframe thead th {\n",
       "        text-align: right;\n",
       "    }\n",
       "</style>\n",
       "<table border=\"1\" class=\"dataframe\">\n",
       "  <thead>\n",
       "    <tr style=\"text-align: right;\">\n",
       "      <th></th>\n",
       "      <th>edad</th>\n",
       "      <th>genero</th>\n",
       "      <th>salario</th>\n",
       "      <th>paises</th>\n",
       "      <th>titulo_academico</th>\n",
       "      <th>puesto_trabajo</th>\n",
       "      <th>años_experiencia</th>\n",
       "      <th>sector_laboral</th>\n",
       "      <th>tamaño_empresa</th>\n",
       "      <th>lenguaje_programacion</th>\n",
       "    </tr>\n",
       "  </thead>\n",
       "  <tbody>\n",
       "    <tr>\n",
       "      <th>16</th>\n",
       "      <td>45-59</td>\n",
       "      <td>Hombre</td>\n",
       "      <td>0-14K</td>\n",
       "      <td>Belgica</td>\n",
       "      <td>Grado</td>\n",
       "      <td>Data Analyst</td>\n",
       "      <td>20+ years</td>\n",
       "      <td>Energía/Minería</td>\n",
       "      <td>Grande</td>\n",
       "      <td>Python, SQL</td>\n",
       "    </tr>\n",
       "    <tr>\n",
       "      <th>32</th>\n",
       "      <td>18-29</td>\n",
       "      <td>No binario</td>\n",
       "      <td>No sabe/No contesta</td>\n",
       "      <td>Estados Unidos</td>\n",
       "      <td>Estudios Universitarios</td>\n",
       "      <td>Data Analyst</td>\n",
       "      <td>&lt; 1 years</td>\n",
       "      <td>Fabricación</td>\n",
       "      <td>Mediana</td>\n",
       "      <td>R</td>\n",
       "    </tr>\n",
       "    <tr>\n",
       "      <th>33</th>\n",
       "      <td>30-44</td>\n",
       "      <td>Mujer</td>\n",
       "      <td>0-14K</td>\n",
       "      <td>Egipto</td>\n",
       "      <td>Grado</td>\n",
       "      <td>Data Analyst</td>\n",
       "      <td>3-5 years</td>\n",
       "      <td>ONG/Servicio</td>\n",
       "      <td>Startup</td>\n",
       "      <td>Python</td>\n",
       "    </tr>\n",
       "    <tr>\n",
       "      <th>46</th>\n",
       "      <td>18-29</td>\n",
       "      <td>Hombre</td>\n",
       "      <td>No sabe/No contesta</td>\n",
       "      <td>China</td>\n",
       "      <td>Estudios Universitarios</td>\n",
       "      <td>Data Analyst</td>\n",
       "      <td>&lt; 1 years</td>\n",
       "      <td>Tecnológico</td>\n",
       "      <td>Startup</td>\n",
       "      <td>Python, SQL, C, C++, Java, Javascript, MATLAB</td>\n",
       "    </tr>\n",
       "    <tr>\n",
       "      <th>52</th>\n",
       "      <td>30-44</td>\n",
       "      <td>Hombre</td>\n",
       "      <td>15K-39K</td>\n",
       "      <td>Sudafrica</td>\n",
       "      <td>Master</td>\n",
       "      <td>Data Analyst</td>\n",
       "      <td>1-3 years</td>\n",
       "      <td>Fabricación</td>\n",
       "      <td>Mediana</td>\n",
       "      <td>R, SQL</td>\n",
       "    </tr>\n",
       "  </tbody>\n",
       "</table>\n",
       "</div>"
      ],
      "text/plain": [
       "     edad      genero              salario          paises  \\\n",
       "16  45-59      Hombre                0-14K         Belgica   \n",
       "32  18-29  No binario  No sabe/No contesta  Estados Unidos   \n",
       "33  30-44       Mujer                0-14K          Egipto   \n",
       "46  18-29      Hombre  No sabe/No contesta           China   \n",
       "52  30-44      Hombre              15K-39K       Sudafrica   \n",
       "\n",
       "           titulo_academico puesto_trabajo años_experiencia   sector_laboral  \\\n",
       "16                    Grado   Data Analyst        20+ years  Energía/Minería   \n",
       "32  Estudios Universitarios   Data Analyst        < 1 years      Fabricación   \n",
       "33                    Grado   Data Analyst        3-5 years     ONG/Servicio   \n",
       "46  Estudios Universitarios   Data Analyst        < 1 years      Tecnológico   \n",
       "52                   Master   Data Analyst        1-3 years      Fabricación   \n",
       "\n",
       "   tamaño_empresa                          lenguaje_programacion  \n",
       "16         Grande                                    Python, SQL  \n",
       "32        Mediana                                              R  \n",
       "33        Startup                                         Python  \n",
       "46        Startup  Python, SQL, C, C++, Java, Javascript, MATLAB  \n",
       "52        Mediana                                         R, SQL  "
      ]
     },
     "execution_count": 2,
     "metadata": {},
     "output_type": "execute_result"
    }
   ],
   "source": [
    "df = pd.read_csv('../datos/Dataframe_final.csv', index_col = 0)\n",
    "df.head()"
   ]
  },
  {
   "cell_type": "code",
   "execution_count": 3,
   "metadata": {},
   "outputs": [
    {
     "data": {
      "text/plain": [
       "edad                     object\n",
       "genero                   object\n",
       "salario                  object\n",
       "paises                   object\n",
       "titulo_academico         object\n",
       "puesto_trabajo           object\n",
       "años_experiencia         object\n",
       "sector_laboral           object\n",
       "tamaño_empresa           object\n",
       "lenguaje_programacion    object\n",
       "dtype: object"
      ]
     },
     "execution_count": 3,
     "metadata": {},
     "output_type": "execute_result"
    }
   ],
   "source": [
    "df.dtypes"
   ]
  },
  {
   "cell_type": "markdown",
   "metadata": {},
   "source": [
    "- Gráfico sobre la Brecha de Género"
   ]
  },
  {
   "cell_type": "code",
   "execution_count": 4,
   "metadata": {},
   "outputs": [
    {
     "data": {
      "text/plain": [
       "array(['Hombre', 'No binario', 'Mujer', 'Prefiero no decirlo',\n",
       "       'Prefiero no describirme'], dtype=object)"
      ]
     },
     "execution_count": 4,
     "metadata": {},
     "output_type": "execute_result"
    }
   ],
   "source": [
    "df['genero'].unique()"
   ]
  },
  {
   "cell_type": "code",
   "execution_count": 49,
   "metadata": {},
   "outputs": [
    {
     "data": {
      "image/png": "[encoded data removed]",
      "text/plain": [
       "<Figure size 1080x576 with 1 Axes>"
      ]
     },
     "metadata": {
      "needs_background": "light"
     },
     "output_type": "display_data"
    }
   ],
   "source": [
    "plt.figure(figsize =(15,8))\n",
    "\n",
    "colors = ['darkolivegreen', 'orange', 'saddlebrown']\n",
    "desfase = (0.1, 0.1, 0.1)\n",
    "\n",
    "fig = plt.pie(df['genero'].value_counts().iloc[:3], labels = ['Hombre', 'Mujer', 'Otros'], colors = colors, autopct = '%1.1f%%', explode = desfase, shadow = True, frame = True)\n",
    "\n",
    "plt.title('Brecha de Género', fontweight = 'bold');"
   ]
  },
  {
   "cell_type": "markdown",
   "metadata": {},
   "source": [
    "Como se observa en la gráfica y en base a la encuesta de Kaggle, podemos comprobar que existe una gran brecha de género en el sector de análisis de datos. El 77.9% de las personas encuestadas son hombres, el 20.9% son mujeres y hay un pequeño porcentaje que ha preferido especificar el género. Como conclusión, este motivo no hace más que confirmar la importancia de la labor de Adalab al formar a mujeres para que puedan incorporarse a este sector de gran demanda."
   ]
  },
  {
   "cell_type": "markdown",
   "metadata": {},
   "source": [
    "- Gráfica Relación Edades y Género"
   ]
  },
  {
   "cell_type": "code",
   "execution_count": 6,
   "metadata": {},
   "outputs": [
    {
     "data": {
      "text/plain": [
       "array(['Hombre', 'No binario', 'Mujer', 'Prefiero no decirlo',\n",
       "       'Prefiero no describirme'], dtype=object)"
      ]
     },
     "execution_count": 6,
     "metadata": {},
     "output_type": "execute_result"
    }
   ],
   "source": [
    "df['genero'].unique()"
   ]
  },
  {
   "cell_type": "code",
   "execution_count": 7,
   "metadata": {},
   "outputs": [
    {
     "data": {
      "text/html": [
       "<div>\n",
       "<style scoped>\n",
       "    .dataframe tbody tr th:only-of-type {\n",
       "        vertical-align: middle;\n",
       "    }\n",
       "\n",
       "    .dataframe tbody tr th {\n",
       "        vertical-align: top;\n",
       "    }\n",
       "\n",
       "    .dataframe thead th {\n",
       "        text-align: right;\n",
       "    }\n",
       "</style>\n",
       "<table border=\"1\" class=\"dataframe\">\n",
       "  <thead>\n",
       "    <tr style=\"text-align: right;\">\n",
       "      <th></th>\n",
       "      <th>edad</th>\n",
       "      <th>genero</th>\n",
       "      <th>salario</th>\n",
       "      <th>paises</th>\n",
       "      <th>titulo_academico</th>\n",
       "      <th>puesto_trabajo</th>\n",
       "      <th>años_experiencia</th>\n",
       "      <th>sector_laboral</th>\n",
       "      <th>tamaño_empresa</th>\n",
       "      <th>lenguaje_programacion</th>\n",
       "    </tr>\n",
       "  </thead>\n",
       "  <tbody>\n",
       "    <tr>\n",
       "      <th>16</th>\n",
       "      <td>45-59</td>\n",
       "      <td>Hombre</td>\n",
       "      <td>0-14K</td>\n",
       "      <td>Belgica</td>\n",
       "      <td>Grado</td>\n",
       "      <td>Data Analyst</td>\n",
       "      <td>20+ years</td>\n",
       "      <td>Energía/Minería</td>\n",
       "      <td>Grande</td>\n",
       "      <td>Python, SQL</td>\n",
       "    </tr>\n",
       "    <tr>\n",
       "      <th>33</th>\n",
       "      <td>30-44</td>\n",
       "      <td>Mujer</td>\n",
       "      <td>0-14K</td>\n",
       "      <td>Egipto</td>\n",
       "      <td>Grado</td>\n",
       "      <td>Data Analyst</td>\n",
       "      <td>3-5 years</td>\n",
       "      <td>ONG/Servicio</td>\n",
       "      <td>Startup</td>\n",
       "      <td>Python</td>\n",
       "    </tr>\n",
       "    <tr>\n",
       "      <th>46</th>\n",
       "      <td>18-29</td>\n",
       "      <td>Hombre</td>\n",
       "      <td>No sabe/No contesta</td>\n",
       "      <td>China</td>\n",
       "      <td>Estudios Universitarios</td>\n",
       "      <td>Data Analyst</td>\n",
       "      <td>&lt; 1 years</td>\n",
       "      <td>Tecnológico</td>\n",
       "      <td>Startup</td>\n",
       "      <td>Python, SQL, C, C++, Java, Javascript, MATLAB</td>\n",
       "    </tr>\n",
       "    <tr>\n",
       "      <th>52</th>\n",
       "      <td>30-44</td>\n",
       "      <td>Hombre</td>\n",
       "      <td>15K-39K</td>\n",
       "      <td>Sudafrica</td>\n",
       "      <td>Master</td>\n",
       "      <td>Data Analyst</td>\n",
       "      <td>1-3 years</td>\n",
       "      <td>Fabricación</td>\n",
       "      <td>Mediana</td>\n",
       "      <td>R, SQL</td>\n",
       "    </tr>\n",
       "    <tr>\n",
       "      <th>53</th>\n",
       "      <td>30-44</td>\n",
       "      <td>Hombre</td>\n",
       "      <td>+40K</td>\n",
       "      <td>Otros</td>\n",
       "      <td>Master</td>\n",
       "      <td>Business Analyst</td>\n",
       "      <td>1-3 years</td>\n",
       "      <td>Contabilidad/Finanzas</td>\n",
       "      <td>Pequeña</td>\n",
       "      <td>Python, SQL, Other</td>\n",
       "    </tr>\n",
       "  </tbody>\n",
       "</table>\n",
       "</div>"
      ],
      "text/plain": [
       "     edad  genero              salario     paises         titulo_academico  \\\n",
       "16  45-59  Hombre                0-14K    Belgica                    Grado   \n",
       "33  30-44   Mujer                0-14K     Egipto                    Grado   \n",
       "46  18-29  Hombre  No sabe/No contesta      China  Estudios Universitarios   \n",
       "52  30-44  Hombre              15K-39K  Sudafrica                   Master   \n",
       "53  30-44  Hombre                 +40K      Otros                   Master   \n",
       "\n",
       "      puesto_trabajo años_experiencia         sector_laboral tamaño_empresa  \\\n",
       "16      Data Analyst        20+ years        Energía/Minería         Grande   \n",
       "33      Data Analyst        3-5 years           ONG/Servicio        Startup   \n",
       "46      Data Analyst        < 1 years            Tecnológico        Startup   \n",
       "52      Data Analyst        1-3 years            Fabricación        Mediana   \n",
       "53  Business Analyst        1-3 years  Contabilidad/Finanzas        Pequeña   \n",
       "\n",
       "                            lenguaje_programacion  \n",
       "16                                    Python, SQL  \n",
       "33                                         Python  \n",
       "46  Python, SQL, C, C++, Java, Javascript, MATLAB  \n",
       "52                                         R, SQL  \n",
       "53                             Python, SQL, Other  "
      ]
     },
     "execution_count": 7,
     "metadata": {},
     "output_type": "execute_result"
    }
   ],
   "source": [
    "df_genero = df[(df['genero'] == 'Hombre') | (df['genero'] == 'Mujer')]\n",
    "df_genero.head()"
   ]
  },
  {
   "cell_type": "code",
   "execution_count": 35,
   "metadata": {},
   "outputs": [
    {
     "data": {
      "image/png": "[encoded data removed]",
      "text/plain": [
       "<Figure size 720x504 with 1 Axes>"
      ]
     },
     "metadata": {
      "needs_background": "light"
     },
     "output_type": "display_data"
    }
   ],
   "source": [
    "plt.figure(figsize =(10,7))\n",
    "\n",
    "fig = sns.countplot(x = 'genero', data = df_genero, hue = 'edad', palette = 'mako')\n",
    "sns.cubehelix_palette(reverse = True)\n",
    "\n",
    "fig.set(xlabel = 'Género', ylabel = 'Edades')\n",
    "\n",
    "fig.set_title('Relación Edades y Género', fontweight = 'bold');"
   ]
  },
  {
   "cell_type": "markdown",
   "metadata": {},
   "source": [
    "Como se observa en la gráfica y en base a la encuesta de Kaggle, podemos comprobar que a pesar de la evidente brecha de género, la proporción entre hombres y mujeres no varía dependiendo de la edad. Por otro lado, podemos comprobar que es una profesión que ha ido aumentado la demanda en los últimos años, ya que la franja de edad en la que se encuentran este tipo de profesionales es cada vez menor. Como conclusión, Adalab debe de seguir formando a mujeres de cualquier edad porque lo importante es que las en este sector."
   ]
  },
  {
   "cell_type": "markdown",
   "metadata": {},
   "source": [
    "- Gráfica Lenguajes de Programación"
   ]
  },
  {
   "cell_type": "code",
   "execution_count": 9,
   "metadata": {},
   "outputs": [
    {
     "data": {
      "text/plain": [
       "array(['Python, SQL', ' R', 'Python',\n",
       "       'Python, SQL, C, C++, Java, Javascript, MATLAB', ' R, SQL',\n",
       "       'Python, SQL, Other', ' SQL, C++', ' R, SQL, C++', ' SQL',\n",
       "       'Python, SQL, Javascript', 'Python, SQL, C, Javascript',\n",
       "       'No sabe/No contesta', 'Python, SQL, C++, Other', 'Python, R, SQL',\n",
       "       'Python, R, SQL, C, C++', 'Python, R', ' C++', 'Python, R, Other',\n",
       "       ' None', 'Python, SQL, Java, Javascript', 'Python, R, MATLAB',\n",
       "       'Python, R, SQL, C++, MATLAB', 'Python, SQL, C++',\n",
       "       'Python, SQL, Javascript, Other', 'Python, R, SQL, MATLAB',\n",
       "       'Python, SQL, MATLAB', 'Python, R, C, C++', 'Python, Javascript',\n",
       "       'Python, SQL, Javascript, Bash', ' C, C++, MATLAB', 'Python, Java',\n",
       "       ' SQL, Java', 'Python, R, SQL, Other',\n",
       "       'Python, SQL, C++, Javascript, Bash', 'Python, C++, Java, MATLAB',\n",
       "       'Python, Javascript, Other', 'Python, R, SQL, Javascript',\n",
       "       'Python, C', 'Python, R, SQL, C, C++, Java',\n",
       "       'Python, R, SQL, Java, Javascript', 'Python, SQL, C, Java',\n",
       "       'Python, Other', 'Python, R, SQL, Java', 'Python, SQL, C, MATLAB',\n",
       "       'Python, SQL, C', 'Python, C, C++, Java', ' SQL, Java, Other',\n",
       "       ' R, Other', 'Python, SQL, MATLAB, Other', ' SQL, Other',\n",
       "       'Python, R, SQL, C, C++, Java, Javascript, MATLAB, Other',\n",
       "       ' MATLAB', 'Python, SQL, Java', 'Python, R, SQL, C',\n",
       "       'Python, C, MATLAB',\n",
       "       'Python, R, SQL, C, C++, Java, Javascript, Julia, Swift, Bash, MATLAB',\n",
       "       ' Java', 'Python, R, SQL, C, C++, Java, Javascript',\n",
       "       'Python, SQL, Bash', 'Python, SQL, C++, Java',\n",
       "       'Python, SQL, C++, Java, MATLAB', ' C++, Java, Javascript',\n",
       "       'Python, C++, MATLAB', 'Python, Julia',\n",
       "       'Python, SQL, C, Java, Javascript', 'Python, C, C++, Bash, MATLAB',\n",
       "       'Python, SQL, Bash, Other',\n",
       "       'Python, C, C++, Javascript, Julia, Swift', 'Python, C, Java',\n",
       "       'Python, SQL, C, C++', 'Python, R, SQL, C, C++, Swift, Bash',\n",
       "       'Python, R, SQL, C++, Java', 'Python, C++',\n",
       "       'Python, R, SQL, C, C++, Java, Javascript, Bash, MATLAB',\n",
       "       'Python, R, SQL, Bash', ' Other', ' C', 'Python, R, Julia, MATLAB',\n",
       "       ' SQL, C, C++, Java, Javascript', 'Python, R, SQL, Julia, Bash',\n",
       "       'Python, MATLAB', 'Python, R, C++, MATLAB', ' SQL, Javascript',\n",
       "       'Python, R, SQL, C, Javascript, MATLAB', ' Javascript',\n",
       "       ' R, SQL, Other', 'Python, R, Javascript',\n",
       "       'Python, C++, Javascript', ' R, SQL, C, Javascript, Bash',\n",
       "       ' Swift', 'Python, R, C', 'Python, SQL, C, C++, Java, Javascript',\n",
       "       'Python, R, SQL, C, Java', 'Python, SQL, C++, Javascript, MATLAB',\n",
       "       'Python, SQL, C, C++, Javascript, MATLAB', 'Python, R, Julia',\n",
       "       'Python, R, SQL, C, C++, MATLAB', 'Python, C++, Java',\n",
       "       ' SQL, C, MATLAB', 'Python, C, C++, Javascript, MATLAB',\n",
       "       'Python, SQL, C, C++, Java, Javascript, Bash', 'Python, R, Java',\n",
       "       'Python, Java, Bash, Other', 'Python, SQL, C, C++, Java, Other',\n",
       "       'Python, SQL, C, Javascript, Bash', ' Javascript, Bash',\n",
       "       'Python, C, C++', 'Python, C, C++, Java, MATLAB',\n",
       "       'Python, SQL, Java, Javascript, Other',\n",
       "       'Python, SQL, C, C++, Java, Javascript, Bash, MATLAB, Other',\n",
       "       ' R, SQL, Javascript', 'Python, Java, MATLAB', ' SQL, C, Java',\n",
       "       'Python, R, SQL, C, MATLAB',\n",
       "       'Python, SQL, Javascript, Bash, Other', ' C++, Java',\n",
       "       'Python, Javascript, MATLAB', 'Python, R, SQL, Julia',\n",
       "       ' R, SQL, MATLAB', ' R, C, Bash, MATLAB',\n",
       "       'Python, SQL, C, Java, Javascript, Bash', ' SQL, C++, MATLAB',\n",
       "       'Python, R, SQL, C++, Javascript, MATLAB',\n",
       "       'Python, R, SQL, Java, Javascript, Swift, Bash',\n",
       "       'Python, R, C++, MATLAB, Other', 'Python, R, SQL, C++, Java, Bash',\n",
       "       'Python, R, C, C++, Javascript', 'Python, SQL, Java, Other',\n",
       "       ' SQL, C', 'Python, C, C++, MATLAB', 'Python, SQL, C, C++, Java',\n",
       "       'Python, R, SQL, C, Java, Javascript', ' R, C, Other',\n",
       "       'Python, SQL, C++, Javascript', ' Bash',\n",
       "       'Python, R, SQL, Java, Javascript, Bash', 'Python, R, SQL, Swift',\n",
       "       'Python, R, C++', 'Python, R, SQL, MATLAB, Other',\n",
       "       'Python, C, C++, Java, Other', 'Python, R, Javascript, Bash',\n",
       "       'Python, R, SQL, C, C++, Java, Javascript, Other',\n",
       "       'Python, R, SQL, C++, Java, Javascript, MATLAB', ' C, C++',\n",
       "       'Python, R, SQL, C, C++, Java, MATLAB',\n",
       "       'Python, R, SQL, C, C++, Javascript',\n",
       "       'Python, R, Javascript, MATLAB', 'Python, SQL, Java, MATLAB',\n",
       "       ' SQL, C++, Javascript, Other',\n",
       "       'Python, C++, Java, Javascript, Other',\n",
       "       'Python, R, SQL, C++, Javascript',\n",
       "       'Python, C, C++, Java, Javascript', 'Python, R, Bash',\n",
       "       'Python, Java, Javascript', 'Python, SQL, C, C++, Other',\n",
       "       'Python, R, SQL, C, Java, Javascript, Other',\n",
       "       'Python, R, SQL, Javascript, MATLAB',\n",
       "       ' R, C, C++, Java, Javascript, MATLAB',\n",
       "       'Python, SQL, Java, Javascript, Bash', ' R, SQL, Bash',\n",
       "       'Python, R, SQL, C, C++, Java, Swift, MATLAB',\n",
       "       'Python, SQL, Java, Javascript, MATLAB', ' SQL, MATLAB',\n",
       "       ' SQL, Javascript, Other', ' SQL, Java, Javascript, Other',\n",
       "       ' C, Other', 'Python, SQL, C++, Java, Javascript, Other',\n",
       "       ' R, MATLAB, Other', ' C, C++, Java, Javascript',\n",
       "       'Python, SQL, Bash, MATLAB', ' R, C, C++, Java, Javascript',\n",
       "       'Python, R, SQL, Javascript, Bash',\n",
       "       'Python, R, SQL, C, Javascript', ' SQL, Bash', ' Java, Javascript',\n",
       "       ' R, C', ' R, MATLAB', 'Python, Bash',\n",
       "       'Python, SQL, C++, Java, Swift', 'Python, R, Javascript, Other',\n",
       "       'Python, SQL, C, C++, Java, MATLAB',\n",
       "       'Python, SQL, Javascript, MATLAB', ' SQL, Java, Javascript',\n",
       "       'Python, SQL, C, C++, Java, Bash', 'Python, R, SQL, C++',\n",
       "       'Python, R, SQL, Javascript, Bash, Other',\n",
       "       'Python, SQL, C++, Java, Javascript, MATLAB',\n",
       "       'Python, R, SQL, Javascript, Other', ' R, SQL, Javascript, Other',\n",
       "       'Python, SQL, C++, Julia', 'Python, SQL, Java, Bash',\n",
       "       'Python, R, SQL, C, C++, Java, Javascript, Julia, Swift, Bash, MATLAB, Other',\n",
       "       ' SQL, C++, Javascript, MATLAB', ' SQL, C, Javascript, Bash',\n",
       "       'Python, C, C++, MATLAB, Other', ' R, Java, Swift',\n",
       "       'Python, SQL, C++, Java, Bash, Other', ' SQL, Javascript, MATLAB',\n",
       "       ' C, Bash', 'Python, R, SQL, Java, Other',\n",
       "       'Python, R, SQL, Bash, Other', 'Python, SQL, C, Java, Bash',\n",
       "       'Python, SQL, Javascript, Bash, MATLAB, Other',\n",
       "       ' R, C, C++, Java, Julia, Other', 'Python, C, Java, Javascript',\n",
       "       'Python, R, SQL, Java, Javascript, MATLAB', ' C++, Other',\n",
       "       ' C++, MATLAB',\n",
       "       'Python, SQL, C, C++, Java, Javascript, Bash, MATLAB',\n",
       "       'Python, R, SQL, C++, Other', 'Python, SQL, C++, Java, Javascript',\n",
       "       ' R, SQL, C', 'Python, R, SQL, C, C++, Javascript, Bash',\n",
       "       'Python, R, C, C++, Java, MATLAB',\n",
       "       'Python, SQL, C, C++, Java, Javascript, Swift, Bash',\n",
       "       'Python, SQL, C++, MATLAB', ' R, Javascript, Swift, Other',\n",
       "       ' Java, MATLAB', 'Python, SQL, Julia',\n",
       "       'Python, R, SQL, C, C++, Java, Bash', 'Python, R, C, Javascript',\n",
       "       'Python, SQL, C, Other', ' SQL, C++, Javascript', ' R, C++',\n",
       "       'Python, Java, Javascript, MATLAB',\n",
       "       'Python, SQL, C, C++, MATLAB, Other',\n",
       "       'Python, SQL, C, C++, MATLAB',\n",
       "       'Python, R, Java, Javascript, MATLAB', 'Python, C++, Other',\n",
       "       'Python, C++, Java, MATLAB, Other', 'Python, Java, Bash',\n",
       "       'Python, Swift', ' R, Bash',\n",
       "       'Python, R, SQL, C++, Java, Javascript, MATLAB, Other',\n",
       "       'Python, C, C++, Java, Javascript, Bash, MATLAB',\n",
       "       'Python, C++, Java, Javascript', ' SQL, Java, Javascript, Bash',\n",
       "       'Python, R, C, C++, MATLAB', 'Python, Java, Other',\n",
       "       'Python, SQL, C, C++, Java, Javascript, Swift, MATLAB',\n",
       "       'Python, R, SQL, Java, MATLAB',\n",
       "       'Python, R, SQL, C++, Java, MATLAB', ' R, Bash, MATLAB',\n",
       "       'Python, SQL, C++, Javascript, Swift, Bash, MATLAB',\n",
       "       'Python, C, C++, Javascript',\n",
       "       'Python, R, SQL, C++, Java, Javascript', ' C, C++, Java',\n",
       "       'Python, Javascript, Bash', ' SQL, C, C++, Javascript, Other',\n",
       "       ' R, SQL, C++, Javascript, MATLAB',\n",
       "       'Python, R, SQL, Java, Javascript, Other'], dtype=object)"
      ]
     },
     "execution_count": 9,
     "metadata": {},
     "output_type": "execute_result"
    }
   ],
   "source": [
    "df[\"lenguaje_programacion\"].unique()"
   ]
  },
  {
   "cell_type": "code",
   "execution_count": 10,
   "metadata": {},
   "outputs": [
    {
     "data": {
      "text/html": [
       "<div>\n",
       "<style scoped>\n",
       "    .dataframe tbody tr th:only-of-type {\n",
       "        vertical-align: middle;\n",
       "    }\n",
       "\n",
       "    .dataframe tbody tr th {\n",
       "        vertical-align: top;\n",
       "    }\n",
       "\n",
       "    .dataframe thead th {\n",
       "        text-align: right;\n",
       "    }\n",
       "</style>\n",
       "<table border=\"1\" class=\"dataframe\">\n",
       "  <thead>\n",
       "    <tr style=\"text-align: right;\">\n",
       "      <th></th>\n",
       "      <th>lenguaje_programacion</th>\n",
       "    </tr>\n",
       "  </thead>\n",
       "  <tbody>\n",
       "    <tr>\n",
       "      <th>Python, SQL</th>\n",
       "      <td>622</td>\n",
       "    </tr>\n",
       "    <tr>\n",
       "      <th>Python</th>\n",
       "      <td>481</td>\n",
       "    </tr>\n",
       "    <tr>\n",
       "      <th>Python, R, SQL</th>\n",
       "      <td>319</td>\n",
       "    </tr>\n",
       "    <tr>\n",
       "      <th>No sabe/No contesta</th>\n",
       "      <td>275</td>\n",
       "    </tr>\n",
       "    <tr>\n",
       "      <th>Python, R</th>\n",
       "      <td>140</td>\n",
       "    </tr>\n",
       "  </tbody>\n",
       "</table>\n",
       "</div>"
      ],
      "text/plain": [
       "                     lenguaje_programacion\n",
       "Python, SQL                            622\n",
       "Python                                 481\n",
       "Python, R, SQL                         319\n",
       "No sabe/No contesta                    275\n",
       "Python, R                              140"
      ]
     },
     "execution_count": 10,
     "metadata": {},
     "output_type": "execute_result"
    }
   ],
   "source": [
    "df_lenguajes = pd.DataFrame(df[\"lenguaje_programacion\"].value_counts())\n",
    "df_lenguajes.head()"
   ]
  },
  {
   "cell_type": "code",
   "execution_count": 11,
   "metadata": {},
   "outputs": [],
   "source": [
    "# Creamos una funcion que dividirá los strings de la columna lenguajes_programacion\n",
    "def split_string(lenguajes):\n",
    "    \n",
    "    \"\"\"\n",
    "    Esta función divide los elementos de un string que estén \n",
    "    separados por una coma y los convierte en una lista\n",
    "        \n",
    "    Args: \n",
    "        lenguajes: String\n",
    "        \n",
    "    Returns: \n",
    "        Una lista \n",
    "        \n",
    "    \"\"\"\n",
    "    try:\n",
    "        return [lenguaje.strip() for lenguaje in lenguajes.split(',')]\n",
    "    except:\n",
    "        return [\"sin responder\"]"
   ]
  },
  {
   "cell_type": "code",
   "execution_count": 12,
   "metadata": {},
   "outputs": [
    {
     "data": {
      "text/plain": [
       "Python, SQL                                        622\n",
       "Python                                             481\n",
       "Python, R, SQL                                     319\n",
       "No sabe/No contesta                                275\n",
       "Python, R                                          140\n",
       "                                                  ... \n",
       "Python, R, SQL, C, C++, Java, Javascript, Other      1\n",
       "Python, R, Javascript, Bash                          1\n",
       "Python, C, C++, Java, Other                          1\n",
       "Python, R, SQL, Swift                                1\n",
       "Python, R, SQL, Java, Javascript, Other              1\n",
       "Name: lenguaje_programacion, Length: 251, dtype: int64"
      ]
     },
     "execution_count": 12,
     "metadata": {},
     "output_type": "execute_result"
    }
   ],
   "source": [
    "df[\"lenguaje_programacion\"].value_counts()"
   ]
  },
  {
   "cell_type": "code",
   "execution_count": 13,
   "metadata": {},
   "outputs": [],
   "source": [
    "df['lenguaje_programacion'] = list(df['lenguaje_programacion'].apply(split_string))\n"
   ]
  },
  {
   "cell_type": "code",
   "execution_count": 14,
   "metadata": {},
   "outputs": [
    {
     "name": "stdout",
     "output_type": "stream",
     "text": [
      "{'Python': 2465, 'SQL': 1866, 'R': 928, 'C': 240, 'C++': 288, 'Java': 300, 'Javascript': 327, 'MATLAB': 230, 'Other': 300, 'No sabe/No contesta': 275, 'None': 59, 'Bash': 131, 'Julia': 21, 'Swift': 20}\n"
     ]
    }
   ],
   "source": [
    "# Contamos la frecuencia de cada lenguaje\n",
    "# Creamos un diccionario en el que tendremos el conteo\n",
    "\n",
    "conteo_lenguajes = {}\n",
    "for lenguajes in df['lenguaje_programacion']:\n",
    "    \n",
    "        for lenguaje in lenguajes:\n",
    "            if lenguaje in conteo_lenguajes:\n",
    "                conteo_lenguajes[lenguaje] += 1\n",
    "            else:\n",
    "                conteo_lenguajes[lenguaje] = 1\n",
    "print(conteo_lenguajes)"
   ]
  },
  {
   "cell_type": "code",
   "execution_count": 15,
   "metadata": {},
   "outputs": [
    {
     "data": {
      "text/html": [
       "<div>\n",
       "<style scoped>\n",
       "    .dataframe tbody tr th:only-of-type {\n",
       "        vertical-align: middle;\n",
       "    }\n",
       "\n",
       "    .dataframe tbody tr th {\n",
       "        vertical-align: top;\n",
       "    }\n",
       "\n",
       "    .dataframe thead th {\n",
       "        text-align: right;\n",
       "    }\n",
       "</style>\n",
       "<table border=\"1\" class=\"dataframe\">\n",
       "  <thead>\n",
       "    <tr style=\"text-align: right;\">\n",
       "      <th></th>\n",
       "      <th>Python</th>\n",
       "      <th>SQL</th>\n",
       "      <th>R</th>\n",
       "      <th>C</th>\n",
       "      <th>C++</th>\n",
       "      <th>Java</th>\n",
       "      <th>Javascript</th>\n",
       "      <th>MATLAB</th>\n",
       "      <th>Other</th>\n",
       "      <th>No sabe/No contesta</th>\n",
       "      <th>None</th>\n",
       "      <th>Bash</th>\n",
       "      <th>Julia</th>\n",
       "      <th>Swift</th>\n",
       "    </tr>\n",
       "  </thead>\n",
       "  <tbody>\n",
       "    <tr>\n",
       "      <th>0</th>\n",
       "      <td>2465</td>\n",
       "      <td>1866</td>\n",
       "      <td>928</td>\n",
       "      <td>240</td>\n",
       "      <td>288</td>\n",
       "      <td>300</td>\n",
       "      <td>327</td>\n",
       "      <td>230</td>\n",
       "      <td>300</td>\n",
       "      <td>275</td>\n",
       "      <td>59</td>\n",
       "      <td>131</td>\n",
       "      <td>21</td>\n",
       "      <td>20</td>\n",
       "    </tr>\n",
       "  </tbody>\n",
       "</table>\n",
       "</div>"
      ],
      "text/plain": [
       "   Python   SQL    R    C  C++  Java  Javascript  MATLAB  Other  \\\n",
       "0    2465  1866  928  240  288   300         327     230    300   \n",
       "\n",
       "   No sabe/No contesta  None  Bash  Julia  Swift  \n",
       "0                  275    59   131     21     20  "
      ]
     },
     "execution_count": 15,
     "metadata": {},
     "output_type": "execute_result"
    }
   ],
   "source": [
    "df_conteo_lenguajes = pd.DataFrame(conteo_lenguajes, index = [0]) \n",
    "df_conteo_lenguajes "
   ]
  },
  {
   "cell_type": "code",
   "execution_count": 16,
   "metadata": {},
   "outputs": [
    {
     "data": {
      "text/html": [
       "<div>\n",
       "<style scoped>\n",
       "    .dataframe tbody tr th:only-of-type {\n",
       "        vertical-align: middle;\n",
       "    }\n",
       "\n",
       "    .dataframe tbody tr th {\n",
       "        vertical-align: top;\n",
       "    }\n",
       "\n",
       "    .dataframe thead th {\n",
       "        text-align: right;\n",
       "    }\n",
       "</style>\n",
       "<table border=\"1\" class=\"dataframe\">\n",
       "  <thead>\n",
       "    <tr style=\"text-align: right;\">\n",
       "      <th></th>\n",
       "      <th>index</th>\n",
       "      <th>0</th>\n",
       "    </tr>\n",
       "  </thead>\n",
       "  <tbody>\n",
       "    <tr>\n",
       "      <th>0</th>\n",
       "      <td>Python</td>\n",
       "      <td>2465</td>\n",
       "    </tr>\n",
       "    <tr>\n",
       "      <th>1</th>\n",
       "      <td>SQL</td>\n",
       "      <td>1866</td>\n",
       "    </tr>\n",
       "    <tr>\n",
       "      <th>2</th>\n",
       "      <td>R</td>\n",
       "      <td>928</td>\n",
       "    </tr>\n",
       "    <tr>\n",
       "      <th>3</th>\n",
       "      <td>Javascript</td>\n",
       "      <td>327</td>\n",
       "    </tr>\n",
       "    <tr>\n",
       "      <th>4</th>\n",
       "      <td>Java</td>\n",
       "      <td>300</td>\n",
       "    </tr>\n",
       "  </tbody>\n",
       "</table>\n",
       "</div>"
      ],
      "text/plain": [
       "        index     0\n",
       "0      Python  2465\n",
       "1         SQL  1866\n",
       "2           R   928\n",
       "3  Javascript   327\n",
       "4        Java   300"
      ]
     },
     "execution_count": 16,
     "metadata": {},
     "output_type": "execute_result"
    }
   ],
   "source": [
    "df_top5 = df_conteo_lenguajes.sum().sort_values(ascending = False).iloc[:5].reset_index()\n",
    "df_top5"
   ]
  },
  {
   "cell_type": "code",
   "execution_count": 17,
   "metadata": {},
   "outputs": [
    {
     "data": {
      "image/png": "[encoded data removed]",
      "text/plain": [
       "<Figure size 720x504 with 1 Axes>"
      ]
     },
     "metadata": {
      "needs_background": "light"
     },
     "output_type": "display_data"
    }
   ],
   "source": [
    "plt.figure(figsize = (10, 7))\n",
    "\n",
    "fig = sns.barplot(x = 0 , y = 'index', data = df_top5, palette = 'Set2')\n",
    "fig.set(xlabel = 'Conteo', ylabel = 'Lenguajes de Programación')\n",
    "\n",
    "fig.set_title('Top 5 de Lenguajes de Programación', fontweight = 'bold');"
   ]
  },
  {
   "cell_type": "markdown",
   "metadata": {},
   "source": [
    "Como se observa en la gráfica y en base a la encuesta de Kaggle, podemos comprobar que los lenguajes de programación más utilizados son Python y SQL seguidos de R. Por lo tanto, en el futuro habría que comprobar que si la demanda de R va aumentando, Adalab podría plantearse impartir este tercer lenguaje de programación en sus cursos."
   ]
  },
  {
   "cell_type": "markdown",
   "metadata": {},
   "source": [
    "- Gráfica Países"
   ]
  },
  {
   "cell_type": "code",
   "execution_count": 18,
   "metadata": {},
   "outputs": [
    {
     "data": {
      "text/html": [
       "<div>\n",
       "<style scoped>\n",
       "    .dataframe tbody tr th:only-of-type {\n",
       "        vertical-align: middle;\n",
       "    }\n",
       "\n",
       "    .dataframe tbody tr th {\n",
       "        vertical-align: top;\n",
       "    }\n",
       "\n",
       "    .dataframe thead th {\n",
       "        text-align: right;\n",
       "    }\n",
       "</style>\n",
       "<table border=\"1\" class=\"dataframe\">\n",
       "  <thead>\n",
       "    <tr style=\"text-align: right;\">\n",
       "      <th></th>\n",
       "      <th>index</th>\n",
       "      <th>paises</th>\n",
       "    </tr>\n",
       "  </thead>\n",
       "  <tbody>\n",
       "    <tr>\n",
       "      <th>0</th>\n",
       "      <td>India</td>\n",
       "      <td>795</td>\n",
       "    </tr>\n",
       "    <tr>\n",
       "      <th>1</th>\n",
       "      <td>Estados Unidos</td>\n",
       "      <td>367</td>\n",
       "    </tr>\n",
       "    <tr>\n",
       "      <th>2</th>\n",
       "      <td>Otros</td>\n",
       "      <td>181</td>\n",
       "    </tr>\n",
       "    <tr>\n",
       "      <th>3</th>\n",
       "      <td>Nigeria</td>\n",
       "      <td>132</td>\n",
       "    </tr>\n",
       "    <tr>\n",
       "      <th>4</th>\n",
       "      <td>China</td>\n",
       "      <td>121</td>\n",
       "    </tr>\n",
       "    <tr>\n",
       "      <th>5</th>\n",
       "      <td>Brasil</td>\n",
       "      <td>110</td>\n",
       "    </tr>\n",
       "    <tr>\n",
       "      <th>6</th>\n",
       "      <td>Rusia</td>\n",
       "      <td>108</td>\n",
       "    </tr>\n",
       "    <tr>\n",
       "      <th>7</th>\n",
       "      <td>Egipto</td>\n",
       "      <td>101</td>\n",
       "    </tr>\n",
       "    <tr>\n",
       "      <th>8</th>\n",
       "      <td>Japon</td>\n",
       "      <td>84</td>\n",
       "    </tr>\n",
       "    <tr>\n",
       "      <th>9</th>\n",
       "      <td>Reino Unido</td>\n",
       "      <td>77</td>\n",
       "    </tr>\n",
       "    <tr>\n",
       "      <th>10</th>\n",
       "      <td>Indonesia</td>\n",
       "      <td>60</td>\n",
       "    </tr>\n",
       "    <tr>\n",
       "      <th>11</th>\n",
       "      <td>Pakistan</td>\n",
       "      <td>50</td>\n",
       "    </tr>\n",
       "    <tr>\n",
       "      <th>12</th>\n",
       "      <td>Canada</td>\n",
       "      <td>49</td>\n",
       "    </tr>\n",
       "    <tr>\n",
       "      <th>13</th>\n",
       "      <td>Australia</td>\n",
       "      <td>49</td>\n",
       "    </tr>\n",
       "    <tr>\n",
       "      <th>14</th>\n",
       "      <td>Mexico</td>\n",
       "      <td>49</td>\n",
       "    </tr>\n",
       "    <tr>\n",
       "      <th>15</th>\n",
       "      <td>Kenia</td>\n",
       "      <td>48</td>\n",
       "    </tr>\n",
       "    <tr>\n",
       "      <th>16</th>\n",
       "      <td>España</td>\n",
       "      <td>48</td>\n",
       "    </tr>\n",
       "  </tbody>\n",
       "</table>\n",
       "</div>"
      ],
      "text/plain": [
       "             index  paises\n",
       "0            India     795\n",
       "1   Estados Unidos     367\n",
       "2            Otros     181\n",
       "3          Nigeria     132\n",
       "4            China     121\n",
       "5           Brasil     110\n",
       "6            Rusia     108\n",
       "7           Egipto     101\n",
       "8            Japon      84\n",
       "9      Reino Unido      77\n",
       "10       Indonesia      60\n",
       "11        Pakistan      50\n",
       "12          Canada      49\n",
       "13       Australia      49\n",
       "14          Mexico      49\n",
       "15           Kenia      48\n",
       "16          España      48"
      ]
     },
     "execution_count": 18,
     "metadata": {},
     "output_type": "execute_result"
    }
   ],
   "source": [
    "df_paises = df[\"paises\"].value_counts().iloc[:17].reset_index()\n",
    "df_paises = df_paises[df_paises[\"index\"] != 'Other']\n",
    "df_paises"
   ]
  },
  {
   "cell_type": "code",
   "execution_count": 19,
   "metadata": {},
   "outputs": [
    {
     "data": {
      "image/png": "[encoded data removed]",
      "text/plain": [
       "<Figure size 720x648 with 1 Axes>"
      ]
     },
     "metadata": {
      "needs_background": "light"
     },
     "output_type": "display_data"
    }
   ],
   "source": [
    "plt.figure(figsize =(10, 9))\n",
    "\n",
    "fig = sns.barplot(x = 'paises', y = 'index', data = df_paises, palette = 'husl')\n",
    "fig.set(xlabel = 'index', ylabel = 'Países')\n",
    "\n",
    "fig.set_title('Analistas por Países', fontweight = 'bold');"
   ]
  },
  {
   "cell_type": "markdown",
   "metadata": {},
   "source": [
    "Como se observa en la gráfica y en base a la encuesta de Kaggle, podemos comprobar que el país con más analistas es la India. El motivo es que en este país promueven la formación matemática y tienen universidades muy destacadas en este campo. También, se encuentran grandes empresas que tienen su sede en este país, como es Oracle. Por otro lado, en Europa, España es el segundo país con más analistas detrás de Reino Unido, por lo que se prevee que hay una alta demanda de analistas de datos. Como conclusión, Adalab va por el camino correcto en haber implementado el nuevo Bootcamp de Data Analyst para que cada vez haya más profesionales en el sector en nuestro país. "
   ]
  },
  {
   "cell_type": "markdown",
   "metadata": {},
   "source": [
    "- Gráfica Relación Tamaño Empresa y Género"
   ]
  },
  {
   "cell_type": "code",
   "execution_count": 20,
   "metadata": {},
   "outputs": [
    {
     "data": {
      "image/png": "[encoded data removed]",
      "text/plain": [
       "<Figure size 720x504 with 1 Axes>"
      ]
     },
     "metadata": {
      "needs_background": "light"
     },
     "output_type": "display_data"
    }
   ],
   "source": [
    "plt.figure(figsize =(10,7))\n",
    "\n",
    "fig = sns.countplot(x = 'genero', data = df_genero, hue = 'tamaño_empresa', palette = 'Spectral')\n",
    "fig.set( xlabel = 'Género', ylabel = 'Tamaño de la Empresa')\n",
    "\n",
    "fig.set_title('Relación del Género con el Tamaño de la Empresa', fontweight = 'bold');"
   ]
  },
  {
   "cell_type": "markdown",
   "metadata": {},
   "source": [
    "Como se observa en la gráfica y en base a la encuesta de Kaggle, podemos comprobar que en las empresas que más trabajan estos perfiles son en Startups seguido de las Multinacionales. Esto indica que las Startup y las Multinacionales son las empresas que más apuestan por este perfil. Esto es debido, a que las Multinacionales tienen más recursos económicos y también tienen gran interés porque recuperan el dinero invertido más la diferencia de toda la economía que trae la digitalización, y las Startup buscan el cambio constante en el sector de la tecnología."
   ]
  },
  {
   "cell_type": "markdown",
   "metadata": {},
   "source": [
    "- Gráfica Relación Sector Laboral con Puesto"
   ]
  },
  {
   "cell_type": "code",
   "execution_count": 30,
   "metadata": {},
   "outputs": [
    {
     "data": {
      "image/png": "[encoded data removed]",
      "text/plain": [
       "<Figure size 720x576 with 1 Axes>"
      ]
     },
     "metadata": {
      "needs_background": "light"
     },
     "output_type": "display_data"
    }
   ],
   "source": [
    "plt.figure(figsize = (10, 8))\n",
    "\n",
    "fig = sns.countplot(y = 'sector_laboral', data = df, hue = 'puesto_trabajo', palette = 'rocket')\n",
    "fig.set(ylabel = 'Sector Laboral', xlabel = 'Conteo')\n",
    "\n",
    "fig.set_title('Relación del Sector Laboral con el Puesto', fontweight = 'bold');"
   ]
  },
  {
   "cell_type": "markdown",
   "metadata": {},
   "source": [
    "Como se observa en la gráfica y en base a la encuesta de Kaggle, se puede comprobar que los analistas de datos se centran en los sectores de Tecnología, Educación y Finanzas. Como conclusión, sería de gran relevancia para Adalab que, por ejemplo, hicieran más hincapié en este tipo de temas para adaptar los proyectos de los diferentes módulos y así las alumnas estarán más acostumbradas a este tipo de información."
   ]
  },
  {
   "cell_type": "markdown",
   "metadata": {},
   "source": [
    "\n",
    "- Gráfica Relación Salarios y Género"
   ]
  },
  {
   "cell_type": "code",
   "execution_count": 22,
   "metadata": {},
   "outputs": [],
   "source": [
    "lista_genero = ['Hombre', 'Mujer']\n",
    "\n",
    "lista_salario = ['0-14K', '15K-39K', '+40K']  "
   ]
  },
  {
   "cell_type": "code",
   "execution_count": 23,
   "metadata": {},
   "outputs": [],
   "source": [
    "df_salario_genero = df[df['genero'].isin(lista_genero)]"
   ]
  },
  {
   "cell_type": "code",
   "execution_count": 24,
   "metadata": {},
   "outputs": [],
   "source": [
    "df_salario_genero = df_salario_genero[df_salario_genero['salario'].isin(lista_salario)]"
   ]
  },
  {
   "cell_type": "code",
   "execution_count": 25,
   "metadata": {},
   "outputs": [
    {
     "data": {
      "image/png": "[encoded data removed]",
      "text/plain": [
       "<Figure size 720x504 with 1 Axes>"
      ]
     },
     "metadata": {
      "needs_background": "light"
     },
     "output_type": "display_data"
    }
   ],
   "source": [
    "plt.figure(figsize =(10,7))\n",
    "\n",
    "fig = sns.countplot(x = 'genero', data = df_salario_genero, hue = 'salario', palette = 'viridis')\n",
    "fig.set( xlabel = 'Género', ylabel = 'Salarios')\n",
    "\n",
    "fig.set_title('Relación del Género con el Salario', fontweight = 'bold');"
   ]
  },
  {
   "cell_type": "markdown",
   "metadata": {},
   "source": [
    "Como se observa en la gráfica y en base a la encuesta de Kaggle, podemos comprobar que a pesar de la evidente brecha de género, la proporción entre hombres y mujeres no varía dependiendo del salario, ya que se aprecia que los hombres cobran más con las mujeres. También, podemos concluir que existen más altos cargos que son hombres respecto a mujeres, ya que los sueldos altos en hombres son muy elevados comparados con el sueldo alto de las mujeres. Como conclusión, Adalab va por el camino correcto en formar a mujeres, para que en un futuro puedan tener la posibilidad de tener un alto cargo en el sector data."
   ]
  },
  {
   "cell_type": "markdown",
   "metadata": {},
   "source": [
    "- Gráfica Título Académico "
   ]
  },
  {
   "cell_type": "code",
   "execution_count": 29,
   "metadata": {},
   "outputs": [
    {
     "data": {
      "image/png": "[encoded data removed]",
      "text/plain": [
       "<Figure size 1080x576 with 1 Axes>"
      ]
     },
     "metadata": {
      "needs_background": "light"
     },
     "output_type": "display_data"
    }
   ],
   "source": [
    "plt.figure(figsize = (15, 8))\n",
    "\n",
    "fig = sns.countplot(x = 'titulo_academico', data = df_salario_genero, hue = 'puesto_trabajo', palette = 'YlOrBr')\n",
    "fig.set( xlabel = 'Género', ylabel = 'Título Académico')\n",
    "\n",
    "fig.set_title('Título Académico de los Analistas', fontweight = 'bold');"
   ]
  },
  {
   "cell_type": "markdown",
   "metadata": {},
   "source": [
    "Como se observa en la gráfica y en base a la encuesta de Kaggle, podemos comprobar que la mayoría de los analistas de datos tienen un nivel de estudios de Máster seguido de una carrera universitaria. Como conlusión, Adalab con su formación está respondiendo a una demanda del mercado, formando a mujeres en este campo, para que puedan acceder al mundo laboral sin necesidad de realizar unos estudios superiores."
   ]
  }
 ],
 "metadata": {
  "kernelspec": {
   "display_name": "base",
   "language": "python",
   "name": "python3"
  },
  "language_info": {
   "codemirror_mode": {
    "name": "ipython",
    "version": 3
   },
   "file_extension": ".py",
   "mimetype": "text/x-python",
   "name": "python",
   "nbconvert_exporter": "python",
   "pygments_lexer": "ipython3",
   "version": "3.9.7"
  },
  "orig_nbformat": 4
 },
 "nbformat": 4,
 "nbformat_minor": 2
}
