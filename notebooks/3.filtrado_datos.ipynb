{
 "cells": [
  {
   "cell_type": "code",
   "execution_count": 1,
   "metadata": {},
   "outputs": [],
   "source": [
    "import numpy as np\n",
    "import pandas as pd\n",
    "import matplotlib.pyplot as plt\n",
    "import seaborn as sns"
   ]
  },
  {
   "cell_type": "code",
   "execution_count": 2,
   "metadata": {},
   "outputs": [
    {
     "data": {
      "text/html": [
       "<div>\n",
       "<style scoped>\n",
       "    .dataframe tbody tr th:only-of-type {\n",
       "        vertical-align: middle;\n",
       "    }\n",
       "\n",
       "    .dataframe tbody tr th {\n",
       "        vertical-align: top;\n",
       "    }\n",
       "\n",
       "    .dataframe thead th {\n",
       "        text-align: right;\n",
       "    }\n",
       "</style>\n",
       "<table border=\"1\" class=\"dataframe\">\n",
       "  <thead>\n",
       "    <tr style=\"text-align: right;\">\n",
       "      <th></th>\n",
       "      <th>Unnamed: 0</th>\n",
       "      <th>edad</th>\n",
       "      <th>genero</th>\n",
       "      <th>paises</th>\n",
       "      <th>titulo_academico</th>\n",
       "      <th>puesto_trabajo</th>\n",
       "      <th>años_experiencia</th>\n",
       "      <th>plataforma_informatica</th>\n",
       "      <th>sector_laboral</th>\n",
       "      <th>tamaño_empresa</th>\n",
       "      <th>salario</th>\n",
       "      <th>servidor_datos</th>\n",
       "      <th>lenguaje_programacion</th>\n",
       "      <th>entorno_desarrollo</th>\n",
       "      <th>libreria_visualizacion</th>\n",
       "      <th>funciones_puesto</th>\n",
       "      <th>herramienta_publicacion</th>\n",
       "    </tr>\n",
       "  </thead>\n",
       "  <tbody>\n",
       "    <tr>\n",
       "      <th>0</th>\n",
       "      <td>0</td>\n",
       "      <td>50-54</td>\n",
       "      <td>Man</td>\n",
       "      <td>India</td>\n",
       "      <td>Bachelor’s degree</td>\n",
       "      <td>Other</td>\n",
       "      <td>5-10 years</td>\n",
       "      <td>A laptop</td>\n",
       "      <td>Manufacturing/Fabrication</td>\n",
       "      <td>50-249 employees</td>\n",
       "      <td>25,000-29,999</td>\n",
       "      <td>NaN</td>\n",
       "      <td>Python, R</td>\n",
       "      <td>Vim / Emacs</td>\n",
       "      <td>Matplotlib ,Seaborn ,Ggplot / ggplot2 ,Shiny ...</td>\n",
       "      <td>None of these activities are an important par...</td>\n",
       "      <td>GitHub   Kaggle</td>\n",
       "    </tr>\n",
       "    <tr>\n",
       "      <th>1</th>\n",
       "      <td>1</td>\n",
       "      <td>50-54</td>\n",
       "      <td>Man</td>\n",
       "      <td>Indonesia</td>\n",
       "      <td>Master’s degree</td>\n",
       "      <td>Program/Project Manager</td>\n",
       "      <td>20+ years</td>\n",
       "      <td>A cloud computing platform (AWS, Azure, GCP, h...</td>\n",
       "      <td>Manufacturing/Fabrication</td>\n",
       "      <td>1000-9,999 employees</td>\n",
       "      <td>60,000-69,999</td>\n",
       "      <td>NaN</td>\n",
       "      <td>SQL, C, C++, Java</td>\n",
       "      <td>Notepad++,Jupyter Notebook</td>\n",
       "      <td>Matplotlib</td>\n",
       "      <td>Build and/or run the data infrastructure that...</td>\n",
       "      <td>NaN</td>\n",
       "    </tr>\n",
       "  </tbody>\n",
       "</table>\n",
       "</div>"
      ],
      "text/plain": [
       "   Unnamed: 0   edad genero     paises   titulo_academico  \\\n",
       "0           0  50-54    Man      India  Bachelor’s degree   \n",
       "1           1  50-54    Man  Indonesia    Master’s degree   \n",
       "\n",
       "            puesto_trabajo años_experiencia  \\\n",
       "0                    Other       5-10 years   \n",
       "1  Program/Project Manager        20+ years   \n",
       "\n",
       "                              plataforma_informatica  \\\n",
       "0                                           A laptop   \n",
       "1  A cloud computing platform (AWS, Azure, GCP, h...   \n",
       "\n",
       "              sector_laboral        tamaño_empresa        salario  \\\n",
       "0  Manufacturing/Fabrication      50-249 employees  25,000-29,999   \n",
       "1  Manufacturing/Fabrication  1000-9,999 employees  60,000-69,999   \n",
       "\n",
       "  servidor_datos lenguaje_programacion           entorno_desarrollo  \\\n",
       "0            NaN             Python, R                  Vim / Emacs   \n",
       "1            NaN     SQL, C, C++, Java   Notepad++,Jupyter Notebook   \n",
       "\n",
       "                              libreria_visualizacion  \\\n",
       "0   Matplotlib ,Seaborn ,Ggplot / ggplot2 ,Shiny ...   \n",
       "1                                        Matplotlib    \n",
       "\n",
       "                                    funciones_puesto herramienta_publicacion  \n",
       "0   None of these activities are an important par...        GitHub   Kaggle   \n",
       "1   Build and/or run the data infrastructure that...                     NaN  "
      ]
     },
     "execution_count": 2,
     "metadata": {},
     "output_type": "execute_result"
    }
   ],
   "source": [
    "df = pd.read_csv('../datos/Dataframe_seleccion.csv')\n",
    "df.head(2)"
   ]
  },
  {
   "cell_type": "code",
   "execution_count": 3,
   "metadata": {},
   "outputs": [],
   "source": [
    "df.drop(['Unnamed: 0'], axis = 1, inplace = True)"
   ]
  },
  {
   "cell_type": "code",
   "execution_count": 4,
   "metadata": {},
   "outputs": [
    {
     "data": {
      "text/html": [
       "<div>\n",
       "<style scoped>\n",
       "    .dataframe tbody tr th:only-of-type {\n",
       "        vertical-align: middle;\n",
       "    }\n",
       "\n",
       "    .dataframe tbody tr th {\n",
       "        vertical-align: top;\n",
       "    }\n",
       "\n",
       "    .dataframe thead th {\n",
       "        text-align: right;\n",
       "    }\n",
       "</style>\n",
       "<table border=\"1\" class=\"dataframe\">\n",
       "  <thead>\n",
       "    <tr style=\"text-align: right;\">\n",
       "      <th></th>\n",
       "      <th>edad</th>\n",
       "      <th>genero</th>\n",
       "      <th>paises</th>\n",
       "      <th>titulo_academico</th>\n",
       "      <th>puesto_trabajo</th>\n",
       "      <th>años_experiencia</th>\n",
       "      <th>plataforma_informatica</th>\n",
       "      <th>sector_laboral</th>\n",
       "      <th>tamaño_empresa</th>\n",
       "      <th>salario</th>\n",
       "      <th>servidor_datos</th>\n",
       "      <th>lenguaje_programacion</th>\n",
       "      <th>entorno_desarrollo</th>\n",
       "      <th>libreria_visualizacion</th>\n",
       "      <th>funciones_puesto</th>\n",
       "      <th>herramienta_publicacion</th>\n",
       "    </tr>\n",
       "  </thead>\n",
       "  <tbody>\n",
       "    <tr>\n",
       "      <th>0</th>\n",
       "      <td>50-54</td>\n",
       "      <td>Man</td>\n",
       "      <td>India</td>\n",
       "      <td>Bachelor’s degree</td>\n",
       "      <td>Other</td>\n",
       "      <td>5-10 years</td>\n",
       "      <td>A laptop</td>\n",
       "      <td>Manufacturing/Fabrication</td>\n",
       "      <td>50-249 employees</td>\n",
       "      <td>25,000-29,999</td>\n",
       "      <td>NaN</td>\n",
       "      <td>Python, R</td>\n",
       "      <td>Vim / Emacs</td>\n",
       "      <td>Matplotlib ,Seaborn ,Ggplot / ggplot2 ,Shiny ...</td>\n",
       "      <td>None of these activities are an important par...</td>\n",
       "      <td>GitHub   Kaggle</td>\n",
       "    </tr>\n",
       "    <tr>\n",
       "      <th>1</th>\n",
       "      <td>50-54</td>\n",
       "      <td>Man</td>\n",
       "      <td>Indonesia</td>\n",
       "      <td>Master’s degree</td>\n",
       "      <td>Program/Project Manager</td>\n",
       "      <td>20+ years</td>\n",
       "      <td>A cloud computing platform (AWS, Azure, GCP, h...</td>\n",
       "      <td>Manufacturing/Fabrication</td>\n",
       "      <td>1000-9,999 employees</td>\n",
       "      <td>60,000-69,999</td>\n",
       "      <td>NaN</td>\n",
       "      <td>SQL, C, C++, Java</td>\n",
       "      <td>Notepad++,Jupyter Notebook</td>\n",
       "      <td>Matplotlib</td>\n",
       "      <td>Build and/or run the data infrastructure that...</td>\n",
       "      <td>NaN</td>\n",
       "    </tr>\n",
       "  </tbody>\n",
       "</table>\n",
       "</div>"
      ],
      "text/plain": [
       "    edad genero     paises   titulo_academico           puesto_trabajo  \\\n",
       "0  50-54    Man      India  Bachelor’s degree                    Other   \n",
       "1  50-54    Man  Indonesia    Master’s degree  Program/Project Manager   \n",
       "\n",
       "  años_experiencia                             plataforma_informatica  \\\n",
       "0       5-10 years                                           A laptop   \n",
       "1        20+ years  A cloud computing platform (AWS, Azure, GCP, h...   \n",
       "\n",
       "              sector_laboral        tamaño_empresa        salario  \\\n",
       "0  Manufacturing/Fabrication      50-249 employees  25,000-29,999   \n",
       "1  Manufacturing/Fabrication  1000-9,999 employees  60,000-69,999   \n",
       "\n",
       "  servidor_datos lenguaje_programacion           entorno_desarrollo  \\\n",
       "0            NaN             Python, R                  Vim / Emacs   \n",
       "1            NaN     SQL, C, C++, Java   Notepad++,Jupyter Notebook   \n",
       "\n",
       "                              libreria_visualizacion  \\\n",
       "0   Matplotlib ,Seaborn ,Ggplot / ggplot2 ,Shiny ...   \n",
       "1                                        Matplotlib    \n",
       "\n",
       "                                    funciones_puesto herramienta_publicacion  \n",
       "0   None of these activities are an important par...        GitHub   Kaggle   \n",
       "1   Build and/or run the data infrastructure that...                     NaN  "
      ]
     },
     "execution_count": 4,
     "metadata": {},
     "output_type": "execute_result"
    }
   ],
   "source": [
    "df.head(2)"
   ]
  },
  {
   "cell_type": "code",
   "execution_count": 5,
   "metadata": {},
   "outputs": [
    {
     "data": {
      "text/plain": [
       "Student                         6804\n",
       "Data Scientist                  3616\n",
       "Software Engineer               2449\n",
       "Other                           2393\n",
       "Data Analyst                    2301\n",
       "Currently not employed          1986\n",
       "Research Scientist              1538\n",
       "Machine Learning Engineer       1499\n",
       "Business Analyst                 968\n",
       "Program/Project Manager          849\n",
       "Data Engineer                    668\n",
       "Product Manager                  319\n",
       "Statistician                     313\n",
       "DBA/Database Engineer            171\n",
       "Developer Relations/Advocacy      99\n",
       "Name: puesto_trabajo, dtype: int64"
      ]
     },
     "execution_count": 5,
     "metadata": {},
     "output_type": "execute_result"
    }
   ],
   "source": [
    "df['puesto_trabajo'].value_counts()"
   ]
  },
  {
   "cell_type": "markdown",
   "metadata": {},
   "source": [
    "### Filtramos por los puestos de trabajo que nos interesan"
   ]
  },
  {
   "cell_type": "code",
   "execution_count": 6,
   "metadata": {},
   "outputs": [
    {
     "data": {
      "text/html": [
       "<div>\n",
       "<style scoped>\n",
       "    .dataframe tbody tr th:only-of-type {\n",
       "        vertical-align: middle;\n",
       "    }\n",
       "\n",
       "    .dataframe tbody tr th {\n",
       "        vertical-align: top;\n",
       "    }\n",
       "\n",
       "    .dataframe thead th {\n",
       "        text-align: right;\n",
       "    }\n",
       "</style>\n",
       "<table border=\"1\" class=\"dataframe\">\n",
       "  <thead>\n",
       "    <tr style=\"text-align: right;\">\n",
       "      <th></th>\n",
       "      <th>edad</th>\n",
       "      <th>genero</th>\n",
       "      <th>paises</th>\n",
       "      <th>titulo_academico</th>\n",
       "      <th>puesto_trabajo</th>\n",
       "      <th>años_experiencia</th>\n",
       "      <th>plataforma_informatica</th>\n",
       "      <th>sector_laboral</th>\n",
       "      <th>tamaño_empresa</th>\n",
       "      <th>salario</th>\n",
       "      <th>servidor_datos</th>\n",
       "      <th>lenguaje_programacion</th>\n",
       "      <th>entorno_desarrollo</th>\n",
       "      <th>libreria_visualizacion</th>\n",
       "      <th>funciones_puesto</th>\n",
       "      <th>herramienta_publicacion</th>\n",
       "    </tr>\n",
       "  </thead>\n",
       "  <tbody>\n",
       "    <tr>\n",
       "      <th>16</th>\n",
       "      <td>50-54</td>\n",
       "      <td>Man</td>\n",
       "      <td>Belgium</td>\n",
       "      <td>Bachelor’s degree</td>\n",
       "      <td>Data Analyst</td>\n",
       "      <td>20+ years</td>\n",
       "      <td>A laptop</td>\n",
       "      <td>Energy/Mining</td>\n",
       "      <td>1000-9,999 employees</td>\n",
       "      <td>2,000-2,999</td>\n",
       "      <td>NaN</td>\n",
       "      <td>Python, SQL</td>\n",
       "      <td>Jupyter (JupyterLab, Jupyter Notebooks, etc) ,...</td>\n",
       "      <td>Matplotlib ,Seaborn ,Plotly / Plotly Express</td>\n",
       "      <td>Analyze and understand data to influence produ...</td>\n",
       "      <td>NaN</td>\n",
       "    </tr>\n",
       "    <tr>\n",
       "      <th>32</th>\n",
       "      <td>22-24</td>\n",
       "      <td>Nonbinary</td>\n",
       "      <td>United States of America</td>\n",
       "      <td>Some college/university study without earning ...</td>\n",
       "      <td>Data Analyst</td>\n",
       "      <td>&lt; 1 years</td>\n",
       "      <td>A personal computer / desktop</td>\n",
       "      <td>Manufacturing/Fabrication</td>\n",
       "      <td>250-999 employees</td>\n",
       "      <td>NaN</td>\n",
       "      <td>NaN</td>\n",
       "      <td>R</td>\n",
       "      <td>RStudio</td>\n",
       "      <td>Ggplot / ggplot2</td>\n",
       "      <td>NaN</td>\n",
       "      <td>NaN</td>\n",
       "    </tr>\n",
       "  </tbody>\n",
       "</table>\n",
       "</div>"
      ],
      "text/plain": [
       "     edad     genero                    paises  \\\n",
       "16  50-54        Man                   Belgium   \n",
       "32  22-24  Nonbinary  United States of America   \n",
       "\n",
       "                                     titulo_academico puesto_trabajo  \\\n",
       "16                                  Bachelor’s degree   Data Analyst   \n",
       "32  Some college/university study without earning ...   Data Analyst   \n",
       "\n",
       "   años_experiencia         plataforma_informatica             sector_laboral  \\\n",
       "16        20+ years                       A laptop              Energy/Mining   \n",
       "32        < 1 years  A personal computer / desktop  Manufacturing/Fabrication   \n",
       "\n",
       "          tamaño_empresa      salario servidor_datos lenguaje_programacion  \\\n",
       "16  1000-9,999 employees  2,000-2,999            NaN           Python, SQL   \n",
       "32     250-999 employees          NaN            NaN                     R   \n",
       "\n",
       "                                   entorno_desarrollo  \\\n",
       "16  Jupyter (JupyterLab, Jupyter Notebooks, etc) ,...   \n",
       "32                                           RStudio    \n",
       "\n",
       "                            libreria_visualizacion  \\\n",
       "16   Matplotlib ,Seaborn ,Plotly / Plotly Express    \n",
       "32                               Ggplot / ggplot2    \n",
       "\n",
       "                                     funciones_puesto herramienta_publicacion  \n",
       "16  Analyze and understand data to influence produ...                     NaN  \n",
       "32                                                NaN                     NaN  "
      ]
     },
     "execution_count": 6,
     "metadata": {},
     "output_type": "execute_result"
    }
   ],
   "source": [
    "# Filtramos por los dos puestos que nos interesan\n",
    "df_data = df[(df['puesto_trabajo'] == 'Data Analyst') | (df['puesto_trabajo'] == 'Business Analyst')]\n",
    "df_data.head(2)"
   ]
  },
  {
   "cell_type": "code",
   "execution_count": 7,
   "metadata": {},
   "outputs": [
    {
     "data": {
      "text/html": [
       "<div>\n",
       "<style scoped>\n",
       "    .dataframe tbody tr th:only-of-type {\n",
       "        vertical-align: middle;\n",
       "    }\n",
       "\n",
       "    .dataframe tbody tr th {\n",
       "        vertical-align: top;\n",
       "    }\n",
       "\n",
       "    .dataframe thead th {\n",
       "        text-align: right;\n",
       "    }\n",
       "</style>\n",
       "<table border=\"1\" class=\"dataframe\">\n",
       "  <thead>\n",
       "    <tr style=\"text-align: right;\">\n",
       "      <th></th>\n",
       "      <th>count</th>\n",
       "      <th>unique</th>\n",
       "      <th>top</th>\n",
       "      <th>freq</th>\n",
       "    </tr>\n",
       "  </thead>\n",
       "  <tbody>\n",
       "    <tr>\n",
       "      <th>edad</th>\n",
       "      <td>3269</td>\n",
       "      <td>11</td>\n",
       "      <td>25-29</td>\n",
       "      <td>788</td>\n",
       "    </tr>\n",
       "    <tr>\n",
       "      <th>genero</th>\n",
       "      <td>3269</td>\n",
       "      <td>5</td>\n",
       "      <td>Man</td>\n",
       "      <td>2538</td>\n",
       "    </tr>\n",
       "    <tr>\n",
       "      <th>paises</th>\n",
       "      <td>3269</td>\n",
       "      <td>66</td>\n",
       "      <td>India</td>\n",
       "      <td>795</td>\n",
       "    </tr>\n",
       "    <tr>\n",
       "      <th>titulo_academico</th>\n",
       "      <td>3269</td>\n",
       "      <td>7</td>\n",
       "      <td>Master’s degree</td>\n",
       "      <td>1514</td>\n",
       "    </tr>\n",
       "    <tr>\n",
       "      <th>puesto_trabajo</th>\n",
       "      <td>3269</td>\n",
       "      <td>2</td>\n",
       "      <td>Data Analyst</td>\n",
       "      <td>2301</td>\n",
       "    </tr>\n",
       "    <tr>\n",
       "      <th>años_experiencia</th>\n",
       "      <td>3269</td>\n",
       "      <td>7</td>\n",
       "      <td>1-3 years</td>\n",
       "      <td>991</td>\n",
       "    </tr>\n",
       "    <tr>\n",
       "      <th>plataforma_informatica</th>\n",
       "      <td>2980</td>\n",
       "      <td>6</td>\n",
       "      <td>A laptop</td>\n",
       "      <td>2082</td>\n",
       "    </tr>\n",
       "    <tr>\n",
       "      <th>sector_laboral</th>\n",
       "      <td>3111</td>\n",
       "      <td>18</td>\n",
       "      <td>Computers/Technology</td>\n",
       "      <td>550</td>\n",
       "    </tr>\n",
       "    <tr>\n",
       "      <th>tamaño_empresa</th>\n",
       "      <td>3092</td>\n",
       "      <td>5</td>\n",
       "      <td>0-49 employees</td>\n",
       "      <td>908</td>\n",
       "    </tr>\n",
       "    <tr>\n",
       "      <th>salario</th>\n",
       "      <td>2924</td>\n",
       "      <td>26</td>\n",
       "      <td>$0-999</td>\n",
       "      <td>679</td>\n",
       "    </tr>\n",
       "    <tr>\n",
       "      <th>servidor_datos</th>\n",
       "      <td>807</td>\n",
       "      <td>20</td>\n",
       "      <td>MySQL</td>\n",
       "      <td>206</td>\n",
       "    </tr>\n",
       "    <tr>\n",
       "      <th>lenguaje_programacion</th>\n",
       "      <td>2994</td>\n",
       "      <td>250</td>\n",
       "      <td>Python, SQL</td>\n",
       "      <td>622</td>\n",
       "    </tr>\n",
       "    <tr>\n",
       "      <th>entorno_desarrollo</th>\n",
       "      <td>2991</td>\n",
       "      <td>474</td>\n",
       "      <td>Jupyter Notebook</td>\n",
       "      <td>377</td>\n",
       "    </tr>\n",
       "    <tr>\n",
       "      <th>libreria_visualizacion</th>\n",
       "      <td>2924</td>\n",
       "      <td>208</td>\n",
       "      <td>Matplotlib ,Seaborn</td>\n",
       "      <td>602</td>\n",
       "    </tr>\n",
       "    <tr>\n",
       "      <th>funciones_puesto</th>\n",
       "      <td>2971</td>\n",
       "      <td>73</td>\n",
       "      <td>Analyze and understand data to influence produ...</td>\n",
       "      <td>1117</td>\n",
       "    </tr>\n",
       "    <tr>\n",
       "      <th>herramienta_publicacion</th>\n",
       "      <td>1659</td>\n",
       "      <td>90</td>\n",
       "      <td>I do not share my work publicly</td>\n",
       "      <td>610</td>\n",
       "    </tr>\n",
       "  </tbody>\n",
       "</table>\n",
       "</div>"
      ],
      "text/plain": [
       "                        count unique  \\\n",
       "edad                     3269     11   \n",
       "genero                   3269      5   \n",
       "paises                   3269     66   \n",
       "titulo_academico         3269      7   \n",
       "puesto_trabajo           3269      2   \n",
       "años_experiencia         3269      7   \n",
       "plataforma_informatica   2980      6   \n",
       "sector_laboral           3111     18   \n",
       "tamaño_empresa           3092      5   \n",
       "salario                  2924     26   \n",
       "servidor_datos            807     20   \n",
       "lenguaje_programacion    2994    250   \n",
       "entorno_desarrollo       2991    474   \n",
       "libreria_visualizacion   2924    208   \n",
       "funciones_puesto         2971     73   \n",
       "herramienta_publicacion  1659     90   \n",
       "\n",
       "                                                                       top  \\\n",
       "edad                                                                 25-29   \n",
       "genero                                                                 Man   \n",
       "paises                                                               India   \n",
       "titulo_academico                                           Master’s degree   \n",
       "puesto_trabajo                                                Data Analyst   \n",
       "años_experiencia                                                 1-3 years   \n",
       "plataforma_informatica                                            A laptop   \n",
       "sector_laboral                                        Computers/Technology   \n",
       "tamaño_empresa                                              0-49 employees   \n",
       "salario                                                             $0-999   \n",
       "servidor_datos                                                      MySQL    \n",
       "lenguaje_programacion                                          Python, SQL   \n",
       "entorno_desarrollo                                        Jupyter Notebook   \n",
       "libreria_visualizacion                                Matplotlib ,Seaborn    \n",
       "funciones_puesto         Analyze and understand data to influence produ...   \n",
       "herramienta_publicacion                    I do not share my work publicly   \n",
       "\n",
       "                         freq  \n",
       "edad                      788  \n",
       "genero                   2538  \n",
       "paises                    795  \n",
       "titulo_academico         1514  \n",
       "puesto_trabajo           2301  \n",
       "años_experiencia          991  \n",
       "plataforma_informatica   2082  \n",
       "sector_laboral            550  \n",
       "tamaño_empresa            908  \n",
       "salario                   679  \n",
       "servidor_datos            206  \n",
       "lenguaje_programacion     622  \n",
       "entorno_desarrollo        377  \n",
       "libreria_visualizacion    602  \n",
       "funciones_puesto         1117  \n",
       "herramienta_publicacion   610  "
      ]
     },
     "execution_count": 7,
     "metadata": {},
     "output_type": "execute_result"
    }
   ],
   "source": [
    "df_data.describe().T"
   ]
  },
  {
   "cell_type": "code",
   "execution_count": 8,
   "metadata": {},
   "outputs": [
    {
     "data": {
      "text/plain": [
       "edad                       3269\n",
       "genero                     3269\n",
       "paises                     3269\n",
       "titulo_academico           3269\n",
       "puesto_trabajo             3269\n",
       "años_experiencia           3269\n",
       "plataforma_informatica     2980\n",
       "sector_laboral             3111\n",
       "tamaño_empresa             3092\n",
       "salario                    2924\n",
       "servidor_datos              807\n",
       "lenguaje_programacion      2994\n",
       "entorno_desarrollo         2991\n",
       "libreria_visualizacion     2924\n",
       "funciones_puesto           2971\n",
       "herramienta_publicacion    1659\n",
       "dtype: int64"
      ]
     },
     "execution_count": 8,
     "metadata": {},
     "output_type": "execute_result"
    }
   ],
   "source": [
    "df_data.notnull().sum()"
   ]
  },
  {
   "cell_type": "code",
   "execution_count": 10,
   "metadata": {},
   "outputs": [
    {
     "data": {
      "text/plain": [
       "array(['50-54', '22-24', '30-34', '40-44', '70+', '45-49', '18-21',\n",
       "       '55-59', '25-29', '35-39', '60-69'], dtype=object)"
      ]
     },
     "execution_count": 10,
     "metadata": {},
     "output_type": "execute_result"
    }
   ],
   "source": [
    "# Sacamos los uniques de columnas que creemos importantes\n",
    "df_data['edad'].unique()"
   ]
  },
  {
   "cell_type": "code",
   "execution_count": 11,
   "metadata": {},
   "outputs": [
    {
     "data": {
      "image/png": "[encoded data removed]",
      "text/plain": [
       "<Figure size 504x360 with 1 Axes>"
      ]
     },
     "metadata": {
      "needs_background": "light"
     },
     "output_type": "display_data"
    }
   ],
   "source": [
    "plt.figure(figsize=(7,5))\n",
    "\n",
    "fig = sns.countplot(y = 'edad', data = df_data)"
   ]
  },
  {
   "cell_type": "code",
   "execution_count": 12,
   "metadata": {},
   "outputs": [
    {
     "data": {
      "text/plain": [
       "array(['Belgium', 'United States of America', 'Egypt', 'China',\n",
       "       'South Africa', 'Other', 'India', 'Israel', 'Colombia', 'Austria',\n",
       "       'Brazil', 'Japan', 'Russia', 'Ukraine', 'Pakistan', 'Canada',\n",
       "       'Nigeria', 'Mexico', 'Tunisia', 'Italy', 'Poland', 'Spain',\n",
       "       'Indonesia', 'Sri Lanka',\n",
       "       'United Kingdom of Great Britain and Northern Ireland', 'Turkey',\n",
       "       'Kenya', 'Iran, Islamic Republic of...', 'South Korea', 'Peru',\n",
       "       'Viet Nam', 'United Arab Emirates', 'Germany', 'France', 'Greece',\n",
       "       'Taiwan', 'Portugal', 'Australia', 'Philippines', 'Saudi Arabia',\n",
       "       'Singapore', 'Chile', 'Netherlands', 'Argentina', 'Ghana',\n",
       "       'Morocco', 'Thailand', 'Switzerland', 'Hong Kong (S.A.R.)',\n",
       "       'Ecuador', 'Bangladesh', 'Malaysia', 'Romania', 'Norway',\n",
       "       'Ethiopia', 'Czech Republic',\n",
       "       'I do not wish to disclose my location', 'Ireland', 'Sweden',\n",
       "       'Kazakhstan', 'Iraq', 'Algeria', 'Denmark', 'Uganda', 'Belarus',\n",
       "       'Nepal'], dtype=object)"
      ]
     },
     "execution_count": 12,
     "metadata": {},
     "output_type": "execute_result"
    }
   ],
   "source": [
    "df_data['paises'].unique()"
   ]
  },
  {
   "cell_type": "code",
   "execution_count": 13,
   "metadata": {},
   "outputs": [
    {
     "data": {
      "image/png": "[encoded data removed]",
      "text/plain": [
       "<Figure size 1080x1008 with 1 Axes>"
      ]
     },
     "metadata": {
      "needs_background": "light"
     },
     "output_type": "display_data"
    }
   ],
   "source": [
    "plt.figure(figsize=(15,14))\n",
    "\n",
    "fig = sns.countplot(y = 'paises', data = df_data)"
   ]
  },
  {
   "cell_type": "code",
   "execution_count": 15,
   "metadata": {},
   "outputs": [
    {
     "data": {
      "text/plain": [
       "array(['2,000-2,999', nan, '7,500-9,999', '$0-999', '25,000-29,999',\n",
       "       '60,000-69,999', '20,000-24,999', '1,000-1,999', '100,000-124,999',\n",
       "       '125,000-149,999', '5,000-7,499', '70,000-79,999', '10,000-14,999',\n",
       "       '30,000-39,999', '15,000-19,999', '3,000-3,999', '4,000-4,999',\n",
       "       '40,000-49,999', '200,000-249,999', '80,000-89,999',\n",
       "       '50,000-59,999', '150,000-199,999', '90,000-99,999',\n",
       "       '250,000-299,999', '>$1,000,000', '300,000-499,999',\n",
       "       '$500,000-999,999'], dtype=object)"
      ]
     },
     "execution_count": 15,
     "metadata": {},
     "output_type": "execute_result"
    }
   ],
   "source": [
    "df_data['salario'].unique()"
   ]
  },
  {
   "cell_type": "code",
   "execution_count": 16,
   "metadata": {},
   "outputs": [
    {
     "data": {
      "text/html": [
       "<div>\n",
       "<style scoped>\n",
       "    .dataframe tbody tr th:only-of-type {\n",
       "        vertical-align: middle;\n",
       "    }\n",
       "\n",
       "    .dataframe tbody tr th {\n",
       "        vertical-align: top;\n",
       "    }\n",
       "\n",
       "    .dataframe thead th {\n",
       "        text-align: right;\n",
       "    }\n",
       "</style>\n",
       "<table border=\"1\" class=\"dataframe\">\n",
       "  <thead>\n",
       "    <tr style=\"text-align: right;\">\n",
       "      <th></th>\n",
       "      <th>index</th>\n",
       "      <th>lenguaje_programacion</th>\n",
       "    </tr>\n",
       "  </thead>\n",
       "  <tbody>\n",
       "    <tr>\n",
       "      <th>0</th>\n",
       "      <td>Python, SQL</td>\n",
       "      <td>622</td>\n",
       "    </tr>\n",
       "    <tr>\n",
       "      <th>1</th>\n",
       "      <td>Python</td>\n",
       "      <td>481</td>\n",
       "    </tr>\n",
       "    <tr>\n",
       "      <th>2</th>\n",
       "      <td>Python, R, SQL</td>\n",
       "      <td>319</td>\n",
       "    </tr>\n",
       "    <tr>\n",
       "      <th>3</th>\n",
       "      <td>Python, R</td>\n",
       "      <td>140</td>\n",
       "    </tr>\n",
       "    <tr>\n",
       "      <th>4</th>\n",
       "      <td>SQL</td>\n",
       "      <td>114</td>\n",
       "    </tr>\n",
       "    <tr>\n",
       "      <th>...</th>\n",
       "      <td>...</td>\n",
       "      <td>...</td>\n",
       "    </tr>\n",
       "    <tr>\n",
       "      <th>245</th>\n",
       "      <td>Python, R, SQL, C, C++, Java, Javascript, Other</td>\n",
       "      <td>1</td>\n",
       "    </tr>\n",
       "    <tr>\n",
       "      <th>246</th>\n",
       "      <td>Python, R, Javascript, Bash</td>\n",
       "      <td>1</td>\n",
       "    </tr>\n",
       "    <tr>\n",
       "      <th>247</th>\n",
       "      <td>Python, C, C++, Java, Other</td>\n",
       "      <td>1</td>\n",
       "    </tr>\n",
       "    <tr>\n",
       "      <th>248</th>\n",
       "      <td>Python, R, SQL, Swift</td>\n",
       "      <td>1</td>\n",
       "    </tr>\n",
       "    <tr>\n",
       "      <th>249</th>\n",
       "      <td>Python, R, SQL, Java, Javascript, Other</td>\n",
       "      <td>1</td>\n",
       "    </tr>\n",
       "  </tbody>\n",
       "</table>\n",
       "<p>250 rows × 2 columns</p>\n",
       "</div>"
      ],
      "text/plain": [
       "                                               index  lenguaje_programacion\n",
       "0                                        Python, SQL                    622\n",
       "1                                             Python                    481\n",
       "2                                     Python, R, SQL                    319\n",
       "3                                          Python, R                    140\n",
       "4                                                SQL                    114\n",
       "..                                               ...                    ...\n",
       "245  Python, R, SQL, C, C++, Java, Javascript, Other                      1\n",
       "246                      Python, R, Javascript, Bash                      1\n",
       "247                      Python, C, C++, Java, Other                      1\n",
       "248                            Python, R, SQL, Swift                      1\n",
       "249          Python, R, SQL, Java, Javascript, Other                      1\n",
       "\n",
       "[250 rows x 2 columns]"
      ]
     },
     "execution_count": 16,
     "metadata": {},
     "output_type": "execute_result"
    }
   ],
   "source": [
    "# Herramienta más usadas por Business Analyst y Data Analyst\n",
    "df_data['lenguaje_programacion'].value_counts().reset_index()"
   ]
  },
  {
   "cell_type": "code",
   "execution_count": 17,
   "metadata": {},
   "outputs": [
    {
     "data": {
      "text/html": [
       "<div>\n",
       "<style scoped>\n",
       "    .dataframe tbody tr th:only-of-type {\n",
       "        vertical-align: middle;\n",
       "    }\n",
       "\n",
       "    .dataframe tbody tr th {\n",
       "        vertical-align: top;\n",
       "    }\n",
       "\n",
       "    .dataframe thead th {\n",
       "        text-align: right;\n",
       "    }\n",
       "</style>\n",
       "<table border=\"1\" class=\"dataframe\">\n",
       "  <thead>\n",
       "    <tr style=\"text-align: right;\">\n",
       "      <th></th>\n",
       "      <th>index</th>\n",
       "      <th>genero</th>\n",
       "    </tr>\n",
       "  </thead>\n",
       "  <tbody>\n",
       "    <tr>\n",
       "      <th>0</th>\n",
       "      <td>Man</td>\n",
       "      <td>2538</td>\n",
       "    </tr>\n",
       "    <tr>\n",
       "      <th>1</th>\n",
       "      <td>Woman</td>\n",
       "      <td>680</td>\n",
       "    </tr>\n",
       "    <tr>\n",
       "      <th>2</th>\n",
       "      <td>Prefer not to say</td>\n",
       "      <td>38</td>\n",
       "    </tr>\n",
       "    <tr>\n",
       "      <th>3</th>\n",
       "      <td>Nonbinary</td>\n",
       "      <td>8</td>\n",
       "    </tr>\n",
       "    <tr>\n",
       "      <th>4</th>\n",
       "      <td>Prefer to self-describe</td>\n",
       "      <td>5</td>\n",
       "    </tr>\n",
       "  </tbody>\n",
       "</table>\n",
       "</div>"
      ],
      "text/plain": [
       "                     index  genero\n",
       "0                      Man    2538\n",
       "1                    Woman     680\n",
       "2        Prefer not to say      38\n",
       "3                Nonbinary       8\n",
       "4  Prefer to self-describe       5"
      ]
     },
     "execution_count": 17,
     "metadata": {},
     "output_type": "execute_result"
    }
   ],
   "source": [
    "# Número de hombres y mujeres en el registro Business Analyst y Data Analyst\n",
    "df_data['genero'].value_counts().reset_index()"
   ]
  },
  {
   "cell_type": "code",
   "execution_count": 18,
   "metadata": {},
   "outputs": [
    {
     "data": {
      "image/png": "[encoded data removed]",
      "text/plain": [
       "<Figure size 504x360 with 1 Axes>"
      ]
     },
     "metadata": {
      "needs_background": "light"
     },
     "output_type": "display_data"
    }
   ],
   "source": [
    "plt.figure(figsize=(7,5))\n",
    "\n",
    "fig = sns.countplot(y = 'genero', data = df_data)"
   ]
  },
  {
   "cell_type": "code",
   "execution_count": 19,
   "metadata": {},
   "outputs": [
    {
     "data": {
      "text/html": [
       "<div>\n",
       "<style scoped>\n",
       "    .dataframe tbody tr th:only-of-type {\n",
       "        vertical-align: middle;\n",
       "    }\n",
       "\n",
       "    .dataframe tbody tr th {\n",
       "        vertical-align: top;\n",
       "    }\n",
       "\n",
       "    .dataframe thead th {\n",
       "        text-align: right;\n",
       "    }\n",
       "</style>\n",
       "<table border=\"1\" class=\"dataframe\">\n",
       "  <thead>\n",
       "    <tr style=\"text-align: right;\">\n",
       "      <th></th>\n",
       "      <th>index</th>\n",
       "      <th>titulo_academico</th>\n",
       "    </tr>\n",
       "  </thead>\n",
       "  <tbody>\n",
       "    <tr>\n",
       "      <th>0</th>\n",
       "      <td>Master’s degree</td>\n",
       "      <td>1514</td>\n",
       "    </tr>\n",
       "    <tr>\n",
       "      <th>1</th>\n",
       "      <td>Bachelor’s degree</td>\n",
       "      <td>1212</td>\n",
       "    </tr>\n",
       "    <tr>\n",
       "      <th>2</th>\n",
       "      <td>Some college/university study without earning ...</td>\n",
       "      <td>202</td>\n",
       "    </tr>\n",
       "    <tr>\n",
       "      <th>3</th>\n",
       "      <td>Doctoral degree</td>\n",
       "      <td>169</td>\n",
       "    </tr>\n",
       "    <tr>\n",
       "      <th>4</th>\n",
       "      <td>I prefer not to answer</td>\n",
       "      <td>83</td>\n",
       "    </tr>\n",
       "    <tr>\n",
       "      <th>5</th>\n",
       "      <td>No formal education past high school</td>\n",
       "      <td>59</td>\n",
       "    </tr>\n",
       "    <tr>\n",
       "      <th>6</th>\n",
       "      <td>Professional doctorate</td>\n",
       "      <td>30</td>\n",
       "    </tr>\n",
       "  </tbody>\n",
       "</table>\n",
       "</div>"
      ],
      "text/plain": [
       "                                               index  titulo_academico\n",
       "0                                    Master’s degree              1514\n",
       "1                                  Bachelor’s degree              1212\n",
       "2  Some college/university study without earning ...               202\n",
       "3                                    Doctoral degree               169\n",
       "4                             I prefer not to answer                83\n",
       "5               No formal education past high school                59\n",
       "6                             Professional doctorate                30"
      ]
     },
     "execution_count": 19,
     "metadata": {},
     "output_type": "execute_result"
    }
   ],
   "source": [
    "df_data['titulo_academico'].value_counts().reset_index()"
   ]
  },
  {
   "cell_type": "code",
   "execution_count": 20,
   "metadata": {},
   "outputs": [
    {
     "data": {
      "image/png": "[encoded data removed]",
      "text/plain": [
       "<Figure size 504x360 with 1 Axes>"
      ]
     },
     "metadata": {
      "needs_background": "light"
     },
     "output_type": "display_data"
    }
   ],
   "source": [
    "plt.figure(figsize=(7,5))\n",
    "\n",
    "fig = sns.countplot(y = 'titulo_academico', data = df_data)"
   ]
  },
  {
   "cell_type": "code",
   "execution_count": 21,
   "metadata": {},
   "outputs": [],
   "source": [
    "# Guardamos el dataframe en un archivo csv\n",
    "df_data.to_csv('../datos/Dataframe_filtrado.csv')"
   ]
  }
 ],
 "metadata": {
  "kernelspec": {
   "display_name": "base",
   "language": "python",
   "name": "python3"
  },
  "language_info": {
   "codemirror_mode": {
    "name": "ipython",
    "version": 3
   },
   "file_extension": ".py",
   "mimetype": "text/x-python",
   "name": "python",
   "nbconvert_exporter": "python",
   "pygments_lexer": "ipython3",
   "version": "3.9.7"
  },
  "orig_nbformat": 4
 },
 "nbformat": 4,
 "nbformat_minor": 2
}
